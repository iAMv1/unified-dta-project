{
 "cells": [
  }minor": 4
rmat_4,
 "nbfo": bformat "n }
 },

 "8.0": "3. "versionthon3",
  xer": "ipynts_lepygmen",
   "pythoorter": "rt_exp"nbconven",
   "pythoname": ",
   "ython"text/x-p: "mimetype"py",
   ".sion": "file_exten },
   3
   ":ion   "versthon",
 "ipy  "name":   ": {
mode"codemirror_": {
   info "language_ },
 3"
  "python   "name":on",
pythage": "
   "langu",3"Python ay_name": 
   "displpec": {ls
  "kerneta": {
 "metada ],   ]
  }
💊\")"
! 🧬edictingppy pr"\\nHaint(\"prn",
    em.\")\ied DTA SystUnifes of the eature advanced fore morplady to ex now reou'ret(\"\\nY
    "prin")\n",pleted!\al comutorirted tng Sta\"🎉 Gettirint(: [
    "pce"our  "ss": [],
 tput},
   "ou": {tadata   "mell,
nt": nuon_couecuti",
   "excode": "pe   "cell_ty },
  {

   ]
 lity"ibiproducfor reons figuratir con"- Save you",
    aining\nbefore tr your data Validate
    "- ts\n",taserge da lae withemory usagMonitor m    "- n",
les\tiple samp for mulredictionbatch p"- Use n",
    velopment\ for de models lightweightwith "- Start ,
       "\n"s\n",
 for Succes"### 💡 Tips,
      "\n"",
  entation\ne API documfor complets/api/` : See `doceference**"- **API R",
    amples\nmore code exes/` for mpl`exaExplore Examples**: "- **
    \n",nsive guideshe for compreectory dir `docs/`heck the*: Cion*Documentat   "- **"\n",
 ,
    rces\n"soul ReAdditiona "### 📚 "\n",
      
 ",\ntion.ipynb`_integra: `06_apiee notebook "   - S\n",
   STful APIREUse the  - ion**grat **API Inte"5.
    ","\n   \n",
 b`tion.ipyne_optimizaformanc: `05_perbook See note "   -\n",
   d memoryanpeed mize for spti** - Optimizationmance Oerfor*P
    "4. *   "\n",n",
 pynb`\n.iratio_configuced `04_advanbook:e note - Se",
    "  res\narchitectuize model n** - Customfiguratioced Con"3. **Advan,
    "\n    "n",
`\ining.ipynbdel_traook: `03_mo- See noteb   "   \n",
 atas on your dodelstom min cu Traning** -Trai*Model . *",
    "2    "\nnb`\n",
aration.ipyata_prep: `02_dnotebook   - See     ",
s\n"asetur own datrepare yo how to p* - Learntion*epara*Data Pr. *  "1",
  \n
    "\n",Next?s What'"### 🚀 
    ": ["source": {},
   tadata  "men",
 dow"mark": l_type   "cel{
 },
  
   ]
 e next:" explorwhat you cantem. Here's ed DTA Sysf the Unifiics ohe basrned tea! You've lonstila"Congratu  ",
  "\n  ",
   Steps\next "## 10. N": [
   "source   : {},
ta"datame
   "", "markdowne":ll_typ  {
   "ce  },

)"
   ]t.show(
    "pln",()\ut.tight_layo,
    "plt\n" "\n",
   tation=45)ros(axis='x', ramk_pa  "ax2.tic  ",
ison')\n Comparion Speed'Predictet_title(ax2.sn",
    "e (ms)')\iction Timbel('Predx2.set_yla   "a)\n",
 e'='lightblu)'], colorime (msion Tdf['Predictcomparison_ation'], 'Configurarison_df[2.bar(comp   "ax",
 arison\n Speed comp"#\n",
    
    ",\n"tion=45)s='x', rotams(axiick_paraax1.t    "n",
on')\e Comparis Sizle('Modelt_tit  "ax1.se\n",
  ')metersraer of Pamblabel('Nut_y1.se,
    "ax)\n"al'ghtcorli, color='ameters']ar_df['Pisonn'], compartionfiguradf['Coon_isomparx1.bar(c  "a
  ison\n",arompers caramet"# P\n",
     "",
    5))\n=(12, figsize, 2,ts(1plt.subplo, ax2) =  (ax1g,  "fin",
  on\arissualize compVi",
    "# \n,
    "))\n"(index=Falseringsto__df.tmparison(co"print   ")\n",
 son:\Comparifiguration "Model Connt(\,
    "pristats)\n"onfig_aFrame(c pd.Datf =parison_d,
    "comparison\n"splay com Di    "#"\n",
\n",
    : {e}\")e} modelfig_namconreate {led to cai(f\"F    print    "    ",
as e:\neption except Exc
    "         \n",,
    "   })\n"       ",
    " n']\nse_fusio]['ul'g['mode': confi Fusion        'Use "    
   1000,\n",e * tims)': pred_me (mon Ti  'Predicti     "       4,\n",
  24 / 102 4 / 10ams *e (MB)': parSiz     '       
    "s,\n", paramameters':'Par          "   \n",
   name,g_ion': confionfigurat 'C           
    "n",.append({\_stats  config"            \n",
     ",
    " rt_time\n sta() -ime.time time =   pred_t     ",
    "quence)\n_ses, protein(drug_smile.predict test_model"        _ =    ()\n",
time.timetart_time =       s    "  peed\n",
ction sst prediTe#       "      \n",
           " s())\n",
l.parametermoder p in test_ fom(p.numel()= sums         para,
    "\n"(config)configom_dDTAModel.frifieUnodel =   test_m     ",
    "  try:\n    "   \n",
gs.items():nfi coconfig infig_name, con   "for ,
 "   "\n]\n",
 ats = [stig_nf   "co\n",
  "   ,
  "}\n"\n",
    "    }
   64]}\n",s': [128,im'hidden_donfig': {ctor_credi  'p"      ",
    nads': 4},\he'num_, _dim': 128 {'hiddenconfig':    'fusion_     "   n",
yers': 3},\ 'num_ladim': 64,put_g': {'out 'drug_confi        "\n",
   m': 64},ut_di': {'outponfign_crotei      'p "  ",
   rue},\n_fusion': T'usen', type': 'gier_encod, 'drug_'cnn'oder_type': n_encoteiodel': {'pr  'm"      ",
    ard': {\nnd  'Sta "  n",
       },\",
    "}\n [32]idden_dims':: {'honfig'or_c'predict          "  ",
: 2},\nayers'_lum 32, 'ntput_dim':oufig': {'on     'drug_c"   \n",
    _dim': 32},utput{'o: _config' 'protein   "       
 ",,\nn': False}'use_fusio', e': 'ginoder_typug_enc: 'cnn', 'drder_type'in_enco': {'prote     'model  "     {\n",
imal':  "    'Min,
   = {\n"figs "con   ons\n",
 configuratiodel different mompare 
    "# Crce": [ou
   "s],: [ "outputs"{},
  etadata": "m null,
   count":n_tioecu"ex
   : "code",cell_type"   "
  {

   ]
  },ses:"nt use cafor differefigurations del conferent moorts dif system suppThe  "\n",
  ,
    "\n"igurationsl Conf Mode "## 9.": [
     "sourceta": {},
 ada  "metown",
 rkd"mae": cell_typ "{
    },

  )"
   ]"or\MemoryMonit with usageemory • Monitor m\"     "print(
 ",)\nelopment\"dev models for ightweighte l • Us(\" int,
    "pr\n"\")snksets in chu large datacess"  • Pro(\"print
    ,")\n\"plesamtiple sn for mulctiodipre batch "  • Useint(\    "prn",
")\y Tips:\ency Effici\n💡 Memort(\"\"prin",
    \nciency tips Memory effi
    "#n",
    "\\n",s)}\")onpredictiatch_en(btions: {lredic"  Total p"print(f\  
  \")\n",MB):.2f} nsedictioatch_prlen(bmory_mb / .peak_me {monitoriction:ry per predf\"  Memo"print(n",
    \\")1f} MBy_mb:.memoreak_or.page: {monitemory usak m(f\"  Pent"pri\n",
    ")ics:\Statistmory Usage \\nMet(f\"
    "prin  "\n",\n",
  proteins)e_batch_largs, _drugatchrge_bct_batch(la model.predictions =_predi batch
    "   "    \n",
    n",eins * 10\s = prototeinbatch_pr"    large_,
    "dictions\n# 50 pregs * 10  rugs = dtch_druge_ba  lar "  n",
   ng\rionitoh memory mwitedictions   # Make pr
    "  ", monitor:\n) asoryMonitor("with Mem  ",
  \n "
   n",...\")\redictioning pry usage dur memongitoriint(\"Mon "pr   
ion\n",ch predictg batrin dusagery uMonitor memo"# : [
    e""sourc ": [],
  ts  "outpu,
 ": {}ta  "metada
 null,n_count":  "executio,
  ": "code"l_type   "cel  },
  {
s:"
   ]
on predictiage duringry us memomonitor"Let's 
        "\n",ng\n",
age Monitoriory Us"## 8. Mem [
    urce": "so,
  : {}a""metadatown",
   rkde": "mall_typ   "ce  {
,
  ]
  }
 .show()"   "plt
 ",\n)qual'"plt.axis('e,
    "\non')utitribrameter Dise('Model Palt.titl "p  ,
 )\n"%1.1f%%' autopct='(),yskes.onent_parammp labels=coes(),.valuparamst_en.pie(componlt "pn",
   8))\=(8, zeigure(figsi"plt.f
    ution\n",er distribt of parametpie chareate 
    "# Cr   "\n",
 ",\n())rsteule.parame modin() for p sum(p.numelame] = params[nent_pon"    com
    ",ldren():\nmed_chin model.nadule ir name, mo"fo\n",
    ms = {}arant_pone"comp
    n",n:\")\butioDistriarameter "\\nPt(\    "prin "\n",
  ")\n",
 arameters\8,} prams:{pa}: \"{name:20rint(f "    p",
   ))\narameters(.pin modulel() for p um(p.numearams = s "    p\n",
   ():drend_chil model.nameindule r name, mo
    "fo",omponent\nh cze eacly   "# Ana"\n",
 ",
    * 50)\n=\" rint(\",
    "p\n"\")nents:ompo C\\nModelt(\"\\n   "prin"\n",
     ",
el)\n "print(mod",
   n50)\\"=\" *   "print(\n",
  ecture:\")Model Architint(\""pr",
    e\n architecturnt model
    "# Pri: ["source",
   ": []uts "outp  },
ata": {
   "metadunt": null,cution_co",
   "exe": "code"cell_type,
  {
   "
   ]
  }ure:al struct's intern model explore the
    "Let's"\n",",
    tecture\nodel Archianding MUnderst"## 7. : [
    "source" {},
   ":"metadata  n",
 : "markdowe"l_typ "cel{
  
     ]
  },f}\")"
tions):.4(predic {np.maxMax: int(f\"   "prn",
   }\")\4fctions):.np.min(predi:  {\"  Min "print(f",
   \")\n4f}:.dictions)np.std(pre\"  Std:  {rint(f   "p
 ")\n",ns):.4f}\an(predictio: {np.meMeant(f\"  "prin )\n",
   \"tistics:iction StaPredf\"\\nnt(
    "pri\n",isticsmmary stat    "# Su\n",
 ")\n",
   how(
    "plt.sut()\n",yot.tight_la",
    "pl"\n   m')\n",
 va='bottor', ='cente', haf}{pred:.3         f'  "    
  n",01, \() + 0.ght.get_heidth()/2, bar+ bar.get_wiget_x() .text(bar.lt    "    p,
ns):\n"ctiodireip(bars, p in zr, pred  "for ba,
  bars\n"s on bellue la Add va   "#",
  "\n
   45)\n",ation=drugs)], rotmerate(n enug i drufor i,1})\" ug}\\n({i+"{drs)), [f\nge(len(drugra.xticks("plt\n",
    ')onsctidiAffinity PreBinding ug-Target .title('Dr
    "plt\n",Affinity')ng ed Bindiictbel('Predyla
    "plt.n",)\Compounds'label('Drug     "plt.x\n",
 alpha=0.7)',lue='skyblorictions, co preds)),e(len(drugang plt.bar(r "bars =,
   , 6))\n"figsize=(10"plt.figure(    ns\n",
dictioof prebar plot # Create a ": [
    ""source [],
   s":tput},
   "ou": {"metadata,
   nt": nullion_couxecut
   "ecode", "cell_type":
  {
   "
  },"
   ]tions Predicngsualizi## 6. Vi   ": [
 source"
   "adata": {},
   "metdown",pe": "markl_ty "cel {
   },
   ]
 )"
 x=False)string(indeo_ts_df.tsul"print(re    ,
")\n"nResults:\nt(\"\\ri  "p
  "\n",",
    \n  "})
  ons\n",redictiffinity': pdicted APre   "    '
 \n",s,ug: drMILES)' (S  'Drug"  ",
    ({\naFrame_df = pd.Datesults"r\n",
     resultslaysp  "# Di\n",
  "n",
    ")\} seconds\):.3fe/len(drugs_timion: {batchedict time per prerage\"  Avt(frin    "pn",
ds\")\} secontch_time:.3f{bampleted in on codictih pref\"✓ Batc    "print(n",
\"\n",
    metart_tie.time() - se = tim"batch_tim",
    ins)\noteugs, pratch(dr_bdict.prens = model"predictio   
 ,\n"ime.time()me = t"start_ti",
    ime\nport t
    "imiming\n",th tiction wi# Batch pred",
    "   "\n
 \n",irs...\")ein pa} drug-protgs)len(druons for {dicti batch pref\"Making    "print(n",
 "\\n",
   )n(drugsnce] * letein_sequeeins = [prorot
    "pns)\n", proteidifferentu'd have actice, yoall (in prin for e same prote"# Use th  "\n",
  n",
    ]\n",
    "rt-Butanol\    # teO\"  CC(C)(C)   \"" ,
    ene\n"   # Benz=C1\",CC\"C1=CC="    ,
    \n"opanol    # Isopr,    (C)O\"  \"CC",
    "  tic acid\n# Ace\",       O)O  \"CC(= "  n",
   thanol\        # E\",   CCO    \"    ",
= [\n"    "drugs ",
airs\nrotein p of drug-paseteate a dat
    "# Cre": [urc "so
  uts": [],"outp": {},
   tadatal,
   "met": nulion_counut"exec  de",
 ype": "co_t
   "cell },
  {  ]
 
 "icient:effre s much moing iatch process bions,e predictultiplr m "Fo   n",
\,
    "ictions\n"atch Pred "## 5. B  ": [
 rce
   "soudata": {},   "metakdown",
 "marpe":cell_ty
   "{
   },]
 ")"
   poses.\on purdemonstratin for tioic predicthet is a synnNote: Thist(\"\\    "prin\n",
f}\").4diction:: {preffinitynding aedicted bi\n🎯 Pr(f\"\rint
    "p\n",    "e)\n",
tein_sequencles, pro_smit(drugredicl.pmodeion = ictred",
    "p..\")\nction.ng prediMaki\n\print(\",
    "\n"tionMake predic "#    n",
,
    "\)\n"cids\"no a)} amiencequ(protein_seength: {lenrotein l"P(f\rint",
    "p")\n]}...\ence[:50equotein_se: {prenctein sequ"Prof\"print(  ,
  \n"}\")ilesS): {drug_smg (SMILE\"Drurint(f,
    "p\n",
    "G\"\n"RGYVLAGLGYNIVATPAYLRSVQDIRQVILSVSQLAEEGASKEPVSLKSIVRILERTVRQERMKnce = \"ueotein_seq",
    "prlecule\nmo- simple ol  EthanO\"  #s = \"CC"drug_smile\n",
    nce)sequecid no aamiein (protILES) and a drug (SMDefine [
    "# e": rc
   "sou: [],uts""outp
   ta": {},"metada
   ull,nt": ncou"execution_   "code",
: l_type"   "cel},
  {
]
    tion:"
 inity predict affrgetag- simple drue aet's mak
    "Ln",",
    "\ction\nredir First P 4. You##
    "ce": [our   "s: {},
etadata""m  kdown",
 e": "marypl_t {
   "cel,
 
  }"
   ])"} MB\.1f 1024:* 4 / 1024 /ams {total_parsize: ~ated   Estim\""print(f  
  n",s:,}\")\nable_paramters: {traiarameainable p"  Trprint(f\  "",
  \")\ns:,}total_parameters: {param\"  Total "print(f\n",
    tics:\")atis\nModel Stf\"\rint("p",
    
    "\n\n",ires_grad)requ() if p.l.parameters in model() for p= sum(p.numeble_params aina",
    "tr\nameters())l.parode in mmel() for p.nu= sum(pams  "total_par
   ion\n",nformatet model i,
    "# G
    "\n"",\n")l created\mple mode✓ Sirint(\""    p    ",
fig)\n(conm_configAModel.fronifiedDT model = U    "   n",
\  "    }  
n",128]}\_dims': [dden: {'hionfig'edictor_cpr      '    "  3},\n",
um_layers':  64, 'nt_dim':'outpuig': {  'drug_conf   "       ,\n",
 64}m':ut_di: {'outponfig'_crotein    'p  "    \n",
      },  "      ,
 False\n"se_fusion':        'u      " ",
  'gin',\n_type':g_encoder     'dru      
    " nn',\n",_type': 'cerncod  'protein_e         ,
    "  {\n"del':mo       '  "   \n",
config = {"    ",
    iguration\nconf Fallback  "    #\n",
    ,
    "   ..\")\n"ation.emonstrr dl foimple mode s a"Creating  print(\"  ",
    {e}\")\nel: d modaine load pretrould not\"C    print(f    ",
as e:\n"ception pt Ex  "exce\n",
  fully\")d successloade model tweightt(\"✓ Ligh"    prin,
    n"t')\('lightweighnedm_pretraiTAModel.fro = UnifiedD   model",
    " try:\n"
    n",...\")\t modelightweigh"Loading l\print(
    "ng)\n",and testior learning d f model (goohtweightoad lig
    "# Lource": [   "s,
s": []"output},
   ": {adata   "met
ull,_count": ntionexecu ""code",
  ype": ell_t   "c
  {
,  }
   ]
s:"d modelre-configureral pith sevecomes wA System ed DT Unifi    "The  "\n",

   Model\n",e-trained Load a Pr"## 3.    ce": [
  "sourta": {},
 etada
   "mmarkdown",": "cell_type
  {
   "}, ]
  "
  \") CPU(\"Using print
    "   ",lse:\n"e   ")\n",
 e9:.1f} GB\ 1y /otal_memorerties(0).tevice_prop_d.getorch.cudaA memory: {t(f\"CUD    print "\n",
   \")}ce_name(0)evida.get_dtorch.cudevice: {(f\"CUDA rint   p    " 
le():\n",ilabis_avaa.h.cudif torc",
    "")\n)}\ilable(s_avatorch.cuda.ivailable: {\"CUDA a "print(f)\n",
   }\".__version__torchion: {vers\"PyTorch rint(f,
    "p"ties\nabiliem capeck syst"# Ch
    \n", "r\n",
   itort MemoryMonpota.utils imom unified_d
    "fr,\n"DTAModelUnified_dta import unifiedfrom    "ts\n",
 enonied DTA comprt Unif Impo,
    "#n"
    "\ sns\n", asornrt seabmpo "i   
",\nyplot as pltplotlib.pmport mat    "i",
p\ns nnumpy a   "import \n",
 ndas as pdmport pa "in",
   t torch\
    "imporource": [,
   "s: []tputs"},
   "oudata": {
   "meta: null,_count"ution   "exec",
": "codecell_type  "
 
  },
  { ]   System"
ckCheand raries ib2. Import L"## e": [
    sourc {},
   "tadata": "me
  own",markd": "ell_type
   "c
  },
  { ]
  \")"complete!ent setup "Environmt(\"prin
      "\n",",
  ../..'))\n.getcwd(), 'in(oss.path.jonsert(0, opath.is.",
    "sylopment)\n (for deveto pathoot t rrojec Add p",
    "#\n "",
   e')\n('ignorngsrwarniltengs.firni
    "wa",\narningsmport w "i
   os\n","import n",
    port sys\,
    "im"
    "\n\n",lib seaborntplotndas ma-pypi pakitformers rdtric transmeh-geoa torch torcfied-dtall uni# !pip inst",
    "\nd)if needes thies (run d packagequirell r"# Insta  rce": [
  sou "": [],
  ts  "outpu},
 ": {ata   "metadll,
count": nucution_"exe
   ",de": "cocell_type  "  },
  {
    ]
alled:"
 are instpackagesd equire sure all r, let's make"First     "\n",
\n",
   and Setupnstallation  I    "## 1.ce": [
sour  "{},
 ": tadata",
   "me "markdownype":   "cell_t {

   ]
  },tions"
 nfigurant coereth diff wi Work5.  "",
  \necturerchit ad the modelerstan. Und",
    "4ctions\npredi "3. Make    els\n",
odd mineoad pre-tra"2. L    ,
"em\nhe syst set up tInstall and1.   "\n",
  
    " to:\n",learn howll em. You'(DTA) Systity inet Affug-TargUnified Dro the  tontiroducsive intencomprehvides a probook "This note
      "\n",m\n",
  d DTA Systenifiewith Uing Started tt
    "# Geource": [ "s": {},
  ataetad"m",
   rkdowne": "macell_typ{
   "